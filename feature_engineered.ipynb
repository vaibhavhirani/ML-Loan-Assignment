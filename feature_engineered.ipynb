{
  "nbformat": 4,
  "nbformat_minor": 0,
  "metadata": {
    "colab": {
      "name": "feature_engineered.ipynb",
      "provenance": [],
      "collapsed_sections": [],
      "mount_file_id": "1ld6NwGAkfyOXXkKVp7aYgoX2WnfrGbDt",
      "authorship_tag": "ABX9TyNHAJLIyh7W3hdF2u+bINDX",
      "include_colab_link": true
    },
    "kernelspec": {
      "name": "python3",
      "display_name": "Python 3"
    },
    "language_info": {
      "name": "python"
    }
  },
  "cells": [
    {
      "cell_type": "markdown",
      "metadata": {
        "id": "view-in-github",
        "colab_type": "text"
      },
      "source": [
        "<a href=\"https://colab.research.google.com/github/vaibhavhirani/ML-Loan-Assignment/blob/main/feature_engineered.ipynb\" target=\"_parent\"><img src=\"https://colab.research.google.com/assets/colab-badge.svg\" alt=\"Open In Colab\"/></a>"
      ]
    },
    {
      "cell_type": "code",
      "metadata": {
        "colab": {
          "base_uri": "https://localhost:8080/"
        },
        "id": "smArcXGhQG78",
        "outputId": "eeb86f64-6b47-421e-ceae-ff6688b3ce3b"
      },
      "source": [
        "import os\n",
        "from sklearn.model_selection import train_test_split\n",
        "import pandas as pd\n",
        "from sklearn.metrics import confusion_matrix\n",
        "from sklearn.metrics import classification_report\n",
        "from sklearn.metrics import accuracy_score\n",
        "os.listdir('/content/drive/MyDrive/')"
      ],
      "execution_count": 12,
      "outputs": [
        {
          "output_type": "execute_result",
          "data": {
            "text/plain": [
              "['Getting started.pdf',\n",
              " 'Loan Dataset',\n",
              " 'Colab Notebooks',\n",
              " 'filtered_loan_2017Q1.csv',\n",
              " 'filtered_LoanStats_securev1_2017Q1.csv',\n",
              " 'filtered_LoanStats_securev1_2017Q2.csv',\n",
              " 'filtered_LoanStats_securev1_2017Q3.csv',\n",
              " 'filtered_LoanStats3c_securev1_2014.csv',\n",
              " 'filtered_LoanStats3d_securev1_2015.csv',\n",
              " 'Ficoed',\n",
              " 'ML_Loan']"
            ]
          },
          "metadata": {
            "tags": []
          },
          "execution_count": 12
        }
      ]
    },
    {
      "cell_type": "code",
      "metadata": {
        "id": "yEjmtvUpgmqt"
      },
      "source": [
        "loan_data = pd.read_csv(\"./drive/MyDrive/Ficoed/filtered_LoanStats.csv\", sep=\",\")"
      ],
      "execution_count": 13,
      "outputs": []
    },
    {
      "cell_type": "code",
      "metadata": {
        "colab": {
          "base_uri": "https://localhost:8080/"
        },
        "id": "i9z4zV09RPu_",
        "outputId": "5d22e280-778c-4b70-ba54-bad640204570"
      },
      "source": [
        "data = loan_data\n",
        "loan_data.head()\n",
        "loan_data.shape"
      ],
      "execution_count": 14,
      "outputs": [
        {
          "output_type": "execute_result",
          "data": {
            "text/plain": [
              "(457395, 75)"
            ]
          },
          "metadata": {
            "tags": []
          },
          "execution_count": 14
        }
      ]
    },
    {
      "cell_type": "code",
      "metadata": {
        "id": "yf3Zjv1iRTpH"
      },
      "source": [
        "y = data[\"loan_status\"]\n",
        "X = data.drop(['loan_status'], axis=1)\n",
        "X_train, X_test, y_train, y_test = train_test_split(X, y, test_size=0.2)"
      ],
      "execution_count": 15,
      "outputs": []
    },
    {
      "cell_type": "code",
      "metadata": {
        "colab": {
          "base_uri": "https://localhost:8080/"
        },
        "id": "YlBTHkY8RqQJ",
        "outputId": "d8d74a05-54a8-4476-f53d-1c5551d40686"
      },
      "source": [
        "from sklearn.naive_bayes import GaussianNB\n",
        "gnb = GaussianNB()\n",
        "gnb.fit(X_train, y_train)\n",
        "y_pred = gnb.predict(X_test)\n",
        "# gnb.score(X_train, y_train)\n",
        "print(\"Accuracy: \", accuracy_score(y_test, y_pred))\n",
        "print(\"Classification Report: \", classification_report(y_test, y_pred))\n",
        "print(\"Confusion Matrix: \", confusion_matrix(y_true=y_test, y_pred=y_pred))"
      ],
      "execution_count": 16,
      "outputs": [
        {
          "output_type": "stream",
          "text": [
            "Accuracy:  0.7874047595623039\n",
            "Classification Report:                precision    recall  f1-score   support\n",
            "\n",
            "         0.0       0.53      0.15      0.24     19740\n",
            "         1.0       0.81      0.96      0.88     71739\n",
            "\n",
            "    accuracy                           0.79     91479\n",
            "   macro avg       0.67      0.56      0.56     91479\n",
            "weighted avg       0.74      0.79      0.74     91479\n",
            "\n",
            "Confusion Matrix:  [[ 3032 16708]\n",
            " [ 2740 68999]]\n"
          ],
          "name": "stdout"
        }
      ]
    },
    {
      "cell_type": "code",
      "metadata": {
        "colab": {
          "base_uri": "https://localhost:8080/"
        },
        "id": "Q0p8DmagRsj9",
        "outputId": "9d2c91a2-5a74-4ee0-d95a-143237947694"
      },
      "source": [
        "from sklearn.tree import DecisionTreeClassifier\n",
        "clf = DecisionTreeClassifier()\n",
        "clf = clf.fit(X_train,y_train)\n",
        "y_pred = clf.predict(X_test)\n",
        "print(\"Accuracy: \", accuracy_score(y_test, y_pred))\n",
        "print(\"Classification Report: \", classification_report(y_test, y_pred))\n",
        "print(\"Confusion Matrix: \", confusion_matrix(y_true=y_test, y_pred=y_pred))"
      ],
      "execution_count": 17,
      "outputs": [
        {
          "output_type": "stream",
          "text": [
            "Accuracy:  0.7110047114638333\n",
            "Classification Report:                precision    recall  f1-score   support\n",
            "\n",
            "         0.0       0.34      0.37      0.35     19740\n",
            "         1.0       0.82      0.81      0.81     71739\n",
            "\n",
            "    accuracy                           0.71     91479\n",
            "   macro avg       0.58      0.59      0.58     91479\n",
            "weighted avg       0.72      0.71      0.71     91479\n",
            "\n",
            "Confusion Matrix:  [[ 7224 12516]\n",
            " [13921 57818]]\n"
          ],
          "name": "stdout"
        }
      ]
    },
    {
      "cell_type": "code",
      "metadata": {
        "id": "qQf4LdT4Ruf8"
      },
      "source": [
        "# from sklearn.neighbors import KNeighborsClassifier\n",
        "# knc = KNeighborsClassifier(n_neighbors = 5, metric='euclidean')\n",
        "# knc.fit(X_train, y_train)\n",
        "# y_pred = knc.predict(X_test)\n",
        "# print(\"Accuracy: \", accuracy_score(y_test, y_pred))\n",
        "# print(\"Classification Report: \", classification_report(y_test, y_pred))\n",
        "# print(\"Confusion Matrix: \", confusion_matrix(y_true=y_test, y_pred=y_pred))"
      ],
      "execution_count": 18,
      "outputs": []
    },
    {
      "cell_type": "code",
      "metadata": {
        "colab": {
          "base_uri": "https://localhost:8080/"
        },
        "id": "Zu9i4I4PR1dk",
        "outputId": "1a7f800b-2fc7-413e-a6c4-0390b1b71add"
      },
      "source": [
        "from sklearn.linear_model import LogisticRegression\n",
        "log_reg = LogisticRegression(solver='liblinear', random_state=0)\n",
        "log_reg.fit(X_train, y_train)\n",
        "y_pred = log_reg.predict(X_test)\n",
        "print(\"Accuracy: \", accuracy_score(y_test, y_pred))\n",
        "print(\"Classification Report: \", classification_report(y_test, y_pred))\n",
        "print(\"Confusion Matrix: \", confusion_matrix(y_true=y_test, y_pred=y_pred))"
      ],
      "execution_count": 22,
      "outputs": [
        {
          "output_type": "stream",
          "text": [
            "Accuracy:  0.8062396834246112\n",
            "Classification Report:                precision    recall  f1-score   support\n",
            "\n",
            "         0.0       0.70      0.18      0.28     19740\n",
            "         1.0       0.81      0.98      0.89     71739\n",
            "\n",
            "    accuracy                           0.81     91479\n",
            "   macro avg       0.76      0.58      0.59     91479\n",
            "weighted avg       0.79      0.81      0.76     91479\n",
            "\n",
            "Confusion Matrix:  [[ 3503 16237]\n",
            " [ 1488 70251]]\n"
          ],
          "name": "stdout"
        }
      ]
    },
    {
      "cell_type": "code",
      "metadata": {
        "id": "oMqhaKpSjdzp"
      },
      "source": [
        ""
      ],
      "execution_count": 19,
      "outputs": []
    }
  ]
}