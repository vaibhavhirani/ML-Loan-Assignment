{
  "nbformat": 4,
  "nbformat_minor": 0,
  "metadata": {
    "colab": {
      "name": "ml-assign.ipynb",
      "provenance": [],
      "mount_file_id": "1xnH5XaxFJaG0IcLFXcUyIEhRHKlTh1-y",
      "authorship_tag": "ABX9TyPd08g+REy7/lExuEFJtLqk",
      "include_colab_link": true
    },
    "kernelspec": {
      "name": "python3",
      "display_name": "Python 3"
    },
    "language_info": {
      "name": "python"
    }
  },
  "cells": [
    {
      "cell_type": "markdown",
      "metadata": {
        "id": "view-in-github",
        "colab_type": "text"
      },
      "source": [
        "<a href=\"https://colab.research.google.com/github/vaibhavhirani/ML-Loan-Assignment/blob/main/ml_assign.ipynb\" target=\"_parent\"><img src=\"https://colab.research.google.com/assets/colab-badge.svg\" alt=\"Open In Colab\"/></a>"
      ]
    },
    {
      "cell_type": "code",
      "metadata": {
        "colab": {
          "base_uri": "https://localhost:8080/"
        },
        "id": "bkJ6HIj-mqy1",
        "outputId": "7c1bae1a-da14-417d-911a-35683732c39b"
      },
      "source": [
        "import os\n",
        "os.listdir('/content/drive/MyDrive/Loan Dataset/')"
      ],
      "execution_count": 2,
      "outputs": [
        {
          "output_type": "execute_result",
          "data": {
            "text/plain": [
              "['LoanStats_securev1_2017Q1.csv',\n",
              " 'LoanStats_securev1_2017Q2.csv',\n",
              " 'LoanStats_securev1_2017Q3.csv',\n",
              " 'LoanStats3c_securev1_2014.csv',\n",
              " 'LoanStats3d_securev1_2015.csv']"
            ]
          },
          "metadata": {
            "tags": []
          },
          "execution_count": 2
        }
      ]
    },
    {
      "cell_type": "code",
      "metadata": {
        "id": "1TthVRG8nB5u"
      },
      "source": [
        "import numpy as np\n",
        "from matplotlib import pyplot as plt"
      ],
      "execution_count": 3,
      "outputs": []
    },
    {
      "cell_type": "code",
      "metadata": {
        "colab": {
          "base_uri": "https://localhost:8080/",
          "height": 35
        },
        "id": "tcdn-6qLnHNX",
        "outputId": "f7b616ef-a0b4-4873-ca16-0b480f3e598f"
      },
      "source": [
        "from __future__ import print_function\n",
        "\n",
        "import pandas as pd\n",
        "pd.__version__"
      ],
      "execution_count": 4,
      "outputs": [
        {
          "output_type": "execute_result",
          "data": {
            "application/vnd.google.colaboratory.intrinsic+json": {
              "type": "string"
            },
            "text/plain": [
              "'1.1.5'"
            ]
          },
          "metadata": {
            "tags": []
          },
          "execution_count": 4
        }
      ]
    },
    {
      "cell_type": "code",
      "metadata": {
        "colab": {
          "base_uri": "https://localhost:8080/"
        },
        "id": "i1QyLE7pnKZ7",
        "outputId": "77a382fd-71a4-4b1f-e18c-b239234b0a60"
      },
      "source": [
        "loan_data_2017q1 = pd.read_csv('./drive/MyDrive/Loan Dataset/LoanStats_securev1_2017Q1.csv',header=1, sep=\",\")\n",
        "loan_data_2017q2 = pd.read_csv('./drive/MyDrive/Loan Dataset/LoanStats_securev1_2017Q2.csv',header=1, sep=\",\")\n",
        "loan_data_2017q3 = pd.read_csv('./drive/MyDrive/Loan Dataset/LoanStats_securev1_2017Q3.csv',header=1, sep=\",\")\n",
        "loan_data_2015 = pd.read_csv('./drive/MyDrive/Loan Dataset/LoanStats3d_securev1_2015.csv',header=1, sep=\",\")\n",
        "loan_data_2014 = pd.read_csv('./drive/MyDrive/Loan Dataset/LoanStats3c_securev1_2014.csv',header=1, sep=\",\")"
      ],
      "execution_count": 5,
      "outputs": [
        {
          "output_type": "stream",
          "text": [
            "/usr/local/lib/python3.7/dist-packages/IPython/core/interactiveshell.py:2718: DtypeWarning: Columns (0,118,145,146,147) have mixed types.Specify dtype option on import or set low_memory=False.\n",
            "  interactivity=interactivity, compiler=compiler, result=result)\n",
            "/usr/local/lib/python3.7/dist-packages/IPython/core/interactiveshell.py:2718: DtypeWarning: Columns (0,145,146,147) have mixed types.Specify dtype option on import or set low_memory=False.\n",
            "  interactivity=interactivity, compiler=compiler, result=result)\n",
            "/usr/local/lib/python3.7/dist-packages/IPython/core/interactiveshell.py:2718: DtypeWarning: Columns (0,129,130,131,134,135,136,139,145,146,147) have mixed types.Specify dtype option on import or set low_memory=False.\n",
            "  interactivity=interactivity, compiler=compiler, result=result)\n",
            "/usr/local/lib/python3.7/dist-packages/IPython/core/interactiveshell.py:2718: DtypeWarning: Columns (0,19,59) have mixed types.Specify dtype option on import or set low_memory=False.\n",
            "  interactivity=interactivity, compiler=compiler, result=result)\n",
            "/usr/local/lib/python3.7/dist-packages/IPython/core/interactiveshell.py:2718: DtypeWarning: Columns (0,19,129,130,131,134,135,136,139) have mixed types.Specify dtype option on import or set low_memory=False.\n",
            "  interactivity=interactivity, compiler=compiler, result=result)\n"
          ],
          "name": "stderr"
        }
      ]
    },
    {
      "cell_type": "code",
      "metadata": {
        "id": "R7QtupCfaeR9",
        "colab": {
          "base_uri": "https://localhost:8080/"
        },
        "outputId": "029c9799-68c6-4800-a8bd-31772c12cf13"
      },
      "source": [
        "loan_data_2017q1.isnull().sum()\n",
        "loan_data_2017q2.isnull().sum()\n",
        "loan_data_2017q3.isnull().sum()\n",
        "loan_data_2015.isnull().sum()\n",
        "loan_data_2014.isnull().sum()"
      ],
      "execution_count": 6,
      "outputs": [
        {
          "output_type": "execute_result",
          "data": {
            "text/plain": [
              "id                            0\n",
              "member_id                235631\n",
              "loan_amnt                     2\n",
              "funded_amnt                   2\n",
              "funded_amnt_inv               2\n",
              "                          ...  \n",
              "settlement_status        232631\n",
              "settlement_date          232631\n",
              "settlement_amount        232631\n",
              "settlement_percentage    232631\n",
              "settlement_term          232631\n",
              "Length: 151, dtype: int64"
            ]
          },
          "metadata": {
            "tags": []
          },
          "execution_count": 6
        }
      ]
    }
  ]
}