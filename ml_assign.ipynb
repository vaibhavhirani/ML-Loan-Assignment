{
  "nbformat": 4,
  "nbformat_minor": 0,
  "metadata": {
    "colab": {
      "name": "ml-assign.ipynb",
      "provenance": [],
      "mount_file_id": "1xnH5XaxFJaG0IcLFXcUyIEhRHKlTh1-y",
      "authorship_tag": "ABX9TyMgqPxed8cwTnN0EPXK/yyE",
      "include_colab_link": true
    },
    "kernelspec": {
      "name": "python3",
      "display_name": "Python 3"
    },
    "language_info": {
      "name": "python"
    }
  },
  "cells": [
    {
      "cell_type": "markdown",
      "metadata": {
        "id": "view-in-github",
        "colab_type": "text"
      },
      "source": [
        "<a href=\"https://colab.research.google.com/github/vaibhavhirani/ML-Loan-Assignment/blob/main/ml_assign.ipynb\" target=\"_parent\"><img src=\"https://colab.research.google.com/assets/colab-badge.svg\" alt=\"Open In Colab\"/></a>"
      ]
    },
    {
      "cell_type": "code",
      "metadata": {
        "colab": {
          "base_uri": "https://localhost:8080/"
        },
        "id": "bkJ6HIj-mqy1",
        "outputId": "5ee8c6e4-d507-4b76-8e50-3dd6cc35fe26"
      },
      "source": [
        "import os\n",
        "os.listdir('/content/drive/MyDrive/Loan Dataset/')"
      ],
      "execution_count": 1,
      "outputs": [
        {
          "output_type": "execute_result",
          "data": {
            "text/plain": [
              "['LoanStats_securev1_2017Q1.csv',\n",
              " 'LoanStats_securev1_2017Q2.csv',\n",
              " 'LoanStats_securev1_2017Q3.csv',\n",
              " 'LoanStats3c_securev1_2014.csv',\n",
              " 'LoanStats3d_securev1_2015.csv']"
            ]
          },
          "metadata": {
            "tags": []
          },
          "execution_count": 1
        }
      ]
    },
    {
      "cell_type": "code",
      "metadata": {
        "id": "1TthVRG8nB5u"
      },
      "source": [
        "import numpy as np\n",
        "from matplotlib import pyplot as plt"
      ],
      "execution_count": 2,
      "outputs": []
    },
    {
      "cell_type": "code",
      "metadata": {
        "colab": {
          "base_uri": "https://localhost:8080/",
          "height": 35
        },
        "id": "tcdn-6qLnHNX",
        "outputId": "bedd2449-6bf0-4e82-fccf-d67c366414b2"
      },
      "source": [
        "from __future__ import print_function\n",
        "\n",
        "import pandas as pd\n",
        "pd.__version__"
      ],
      "execution_count": 3,
      "outputs": [
        {
          "output_type": "execute_result",
          "data": {
            "application/vnd.google.colaboratory.intrinsic+json": {
              "type": "string"
            },
            "text/plain": [
              "'1.1.5'"
            ]
          },
          "metadata": {
            "tags": []
          },
          "execution_count": 3
        }
      ]
    },
    {
      "cell_type": "code",
      "metadata": {
        "colab": {
          "base_uri": "https://localhost:8080/"
        },
        "id": "i1QyLE7pnKZ7",
        "outputId": "f0a28417-43b2-4a72-b258-41ecb1294ce9"
      },
      "source": [
        "loan_data_2017q1 = pd.read_csv('./drive/MyDrive/Loan Dataset/LoanStats_securev1_2017Q1.csv',header=1, sep=\",\")\n",
        "loan_data_2017q2 = pd.read_csv('./drive/MyDrive/Loan Dataset/LoanStats_securev1_2017Q2.csv',header=1, sep=\",\")\n",
        "loan_data_2017q3 = pd.read_csv('./drive/MyDrive/Loan Dataset/LoanStats_securev1_2017Q3.csv',header=1, sep=\",\")\n",
        "loan_data_2015 = pd.read_csv('./drive/MyDrive/Loan Dataset/LoanStats3d_securev1_2015.csv',header=1, sep=\",\")\n",
        "loan_data_2014 = pd.read_csv('./drive/MyDrive/Loan Dataset/LoanStats3c_securev1_2014.csv',header=1, sep=\",\")"
      ],
      "execution_count": 4,
      "outputs": [
        {
          "output_type": "stream",
          "text": [
            "/usr/local/lib/python3.7/dist-packages/IPython/core/interactiveshell.py:2718: DtypeWarning: Columns (0,118,145,146,147) have mixed types.Specify dtype option on import or set low_memory=False.\n",
            "  interactivity=interactivity, compiler=compiler, result=result)\n",
            "/usr/local/lib/python3.7/dist-packages/IPython/core/interactiveshell.py:2718: DtypeWarning: Columns (0,145,146,147) have mixed types.Specify dtype option on import or set low_memory=False.\n",
            "  interactivity=interactivity, compiler=compiler, result=result)\n",
            "/usr/local/lib/python3.7/dist-packages/IPython/core/interactiveshell.py:2718: DtypeWarning: Columns (0,129,130,131,134,135,136,139,145,146,147) have mixed types.Specify dtype option on import or set low_memory=False.\n",
            "  interactivity=interactivity, compiler=compiler, result=result)\n",
            "/usr/local/lib/python3.7/dist-packages/IPython/core/interactiveshell.py:2718: DtypeWarning: Columns (0,19,59) have mixed types.Specify dtype option on import or set low_memory=False.\n",
            "  interactivity=interactivity, compiler=compiler, result=result)\n",
            "/usr/local/lib/python3.7/dist-packages/IPython/core/interactiveshell.py:2718: DtypeWarning: Columns (0,19,129,130,131,134,135,136,139) have mixed types.Specify dtype option on import or set low_memory=False.\n",
            "  interactivity=interactivity, compiler=compiler, result=result)\n"
          ],
          "name": "stderr"
        }
      ]
    }
  ]
}