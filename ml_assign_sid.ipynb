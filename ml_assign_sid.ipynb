{
  "nbformat": 4,
  "nbformat_minor": 0,
  "metadata": {
    "colab": {
      "name": "ml-assign-sid.ipynb",
      "provenance": [],
      "collapsed_sections": [],
      "mount_file_id": "1xnH5XaxFJaG0IcLFXcUyIEhRHKlTh1-y",
      "authorship_tag": "ABX9TyPNCOwn7p4N4A9UjkGMC1xy",
      "include_colab_link": true
    },
    "kernelspec": {
      "name": "python3",
      "display_name": "Python 3"
    },
    "language_info": {
      "name": "python"
    }
  },
  "cells": [
    {
      "cell_type": "markdown",
      "metadata": {
        "id": "view-in-github",
        "colab_type": "text"
      },
      "source": [
        "<a href=\"https://colab.research.google.com/github/vaibhavhirani/ML-Loan-Assignment/blob/main/ml_assign_sid.ipynb\" target=\"_parent\"><img src=\"https://colab.research.google.com/assets/colab-badge.svg\" alt=\"Open In Colab\"/></a>"
      ]
    },
    {
      "cell_type": "code",
      "metadata": {
        "colab": {
          "base_uri": "https://localhost:8080/"
        },
        "id": "bkJ6HIj-mqy1",
        "outputId": "644d145c-c4bd-4bd6-cac2-afcf5d9c0765"
      },
      "source": [
        "import os\n",
        "os.listdir('/content/drive/MyDrive/Loan Dataset/')"
      ],
      "execution_count": null,
      "outputs": [
        {
          "output_type": "execute_result",
          "data": {
            "text/plain": [
              "['LoanStats_securev1_2017Q1.csv',\n",
              " 'LoanStats_securev1_2017Q2.csv',\n",
              " 'LoanStats_securev1_2017Q3.csv',\n",
              " 'LoanStats3c_securev1_2014.csv',\n",
              " 'LoanStats3d_securev1_2015.csv']"
            ]
          },
          "metadata": {
            "tags": []
          },
          "execution_count": 31
        }
      ]
    },
    {
      "cell_type": "code",
      "metadata": {
        "id": "1TthVRG8nB5u"
      },
      "source": [
        "import numpy as np\n",
        "from matplotlib import pyplot as plt"
      ],
      "execution_count": null,
      "outputs": []
    },
    {
      "cell_type": "code",
      "metadata": {
        "colab": {
          "base_uri": "https://localhost:8080/",
          "height": 35
        },
        "id": "tcdn-6qLnHNX",
        "outputId": "2526ba60-f240-4198-e157-eb313a5a5e10"
      },
      "source": [
        "from __future__ import print_function\n",
        "\n",
        "import pandas as pd\n",
        "pd.__version__"
      ],
      "execution_count": null,
      "outputs": [
        {
          "output_type": "execute_result",
          "data": {
            "application/vnd.google.colaboratory.intrinsic+json": {
              "type": "string"
            },
            "text/plain": [
              "'1.1.5'"
            ]
          },
          "metadata": {
            "tags": []
          },
          "execution_count": 33
        }
      ]
    },
    {
      "cell_type": "code",
      "metadata": {
        "colab": {
          "base_uri": "https://localhost:8080/"
        },
        "id": "i1QyLE7pnKZ7",
        "outputId": "498a0af2-9ea3-441b-a6e5-0fd6e7344e32"
      },
      "source": [
        "loan_data_2017q1 = pd.read_csv('./drive/MyDrive/Loan Dataset/LoanStats_securev1_2017Q1.csv',header=1, sep=\",\")\n",
        "loan_data_2017q2 = pd.read_csv('./drive/MyDrive/Loan Dataset/LoanStats_securev1_2017Q2.csv',header=1, sep=\",\")\n",
        "loan_data_2017q3 = pd.read_csv('./drive/MyDrive/Loan Dataset/LoanStats_securev1_2017Q3.csv',header=1, sep=\",\")\n",
        "loan_data_2015 = pd.read_csv('./drive/MyDrive/Loan Dataset/LoanStats3d_securev1_2015.csv',header=1, sep=\",\")\n",
        "loan_data_2014 = pd.read_csv('./drive/MyDrive/Loan Dataset/LoanStats3c_securev1_2014.csv',header=1, sep=\",\")"
      ],
      "execution_count": null,
      "outputs": [
        {
          "output_type": "stream",
          "text": [
            "/usr/local/lib/python3.7/dist-packages/IPython/core/interactiveshell.py:2718: DtypeWarning: Columns (0,118,145,146,147) have mixed types.Specify dtype option on import or set low_memory=False.\n",
            "  interactivity=interactivity, compiler=compiler, result=result)\n",
            "/usr/local/lib/python3.7/dist-packages/IPython/core/interactiveshell.py:2718: DtypeWarning: Columns (0,145,146,147) have mixed types.Specify dtype option on import or set low_memory=False.\n",
            "  interactivity=interactivity, compiler=compiler, result=result)\n",
            "/usr/local/lib/python3.7/dist-packages/IPython/core/interactiveshell.py:2718: DtypeWarning: Columns (0,129,130,131,134,135,136,139,145,146,147) have mixed types.Specify dtype option on import or set low_memory=False.\n",
            "  interactivity=interactivity, compiler=compiler, result=result)\n",
            "/usr/local/lib/python3.7/dist-packages/IPython/core/interactiveshell.py:2718: DtypeWarning: Columns (0,19,59) have mixed types.Specify dtype option on import or set low_memory=False.\n",
            "  interactivity=interactivity, compiler=compiler, result=result)\n",
            "/usr/local/lib/python3.7/dist-packages/IPython/core/interactiveshell.py:2718: DtypeWarning: Columns (0,19,129,130,131,134,135,136,139) have mixed types.Specify dtype option on import or set low_memory=False.\n",
            "  interactivity=interactivity, compiler=compiler, result=result)\n"
          ],
          "name": "stderr"
        }
      ]
    },
    {
      "cell_type": "code",
      "metadata": {
        "id": "R7QtupCfaeR9"
      },
      "source": [
        "# loan_data_2017q1.isnull().sum()\n",
        "# loan_data_2017q2.isnull().sum()\n",
        "# loan_data_2017q3.isnull().sum()\n",
        "# loan_data_2015.isnull().sum()\n",
        "# loan_data_2014.isnull().sum()\n",
        "\n",
        "loan_data = pd.concat([loan_data_2014, loan_data_2015, loan_data_2017q1, loan_data_2017q2, loan_data_2017q3])"
      ],
      "execution_count": null,
      "outputs": []
    },
    {
      "cell_type": "code",
      "metadata": {
        "colab": {
          "base_uri": "https://localhost:8080/"
        },
        "id": "9coqconkTSDb",
        "outputId": "4fcb00b5-735e-4397-eec2-23d64793aca0"
      },
      "source": [
        "data = loan_data_2017q1[:-2]\n",
        "\n",
        "#delete Columns\n",
        "empty_data_fields = loan_data_2017q1.isnull().sum()\n",
        "cut_off = loan_data_2017q1['id'].count() * .40\n",
        "data = loan_data_2017q1.drop([ x for x in empty_data_fields.keys() if empty_data_fields[x] > cut_off ] ,axis=1)\n",
        "\n",
        "print(data.isnull().sum().sort_values(ascending=False)[:25])"
      ],
      "execution_count": null,
      "outputs": [
        {
          "output_type": "stream",
          "text": [
            "next_pymnt_d             15163\n",
            "il_util                  13000\n",
            "mths_since_recent_inq    11316\n",
            "emp_title                 6894\n",
            "emp_length                6794\n",
            "num_tl_120dpd_2m          4708\n",
            "mo_sin_old_il_acct        2598\n",
            "mths_since_rcnt_il        2598\n",
            "bc_util                   1030\n",
            "percent_bc_gt_75           989\n",
            "bc_open_to_buy             987\n",
            "mths_since_recent_bc       947\n",
            "last_pymnt_d               112\n",
            "revol_util                  53\n",
            "dti                         35\n",
            "all_util                     5\n",
            "last_credit_pull_d           4\n",
            "zip_code                     3\n",
            "total_rec_int                2\n",
            "total_acc                    2\n",
            "open_acc                     2\n",
            "pub_rec                      2\n",
            "revol_bal                    2\n",
            "last_pymnt_amnt              2\n",
            "initial_list_status          2\n",
            "dtype: int64\n"
          ],
          "name": "stdout"
        }
      ]
    },
    {
      "cell_type": "code",
      "metadata": {
        "id": "PZK3ajpZqePf"
      },
      "source": [
        "# columns_to_drop = ['term', 'emp_title', 'emp_length', 'url', 'title', 'int_rate', 'grade', 'sub_grade', 'home_ownership', 'verification_status', 'issue_d', 'pymnt_plan', 'purpose', 'title', 'zip_code', 'addr_state', 'earliest_cr_line', 'initial_list_status', 'hardship_flag', 'disbursement_method', 'debt_settlement_flag']\n",
        "columns_to_drop = ['il_util','mths_since_recent_inq','num_tl_120dpd_2m','mths_since_rcnt_il','mo_sin_old_il_acct','bc_util','percent_bc_gt_75','bc_open_to_buy','mths_since_recent_bc', 'dti', 'all_util']\n",
        "data = data.drop(columns_to_drop, axis=1)\n",
        "\n",
        "# y = data[\"loan_status\"]\n",
        "# X = data.drop(\"loan_status\", axis=1)"
      ],
      "execution_count": null,
      "outputs": []
    },
    {
      "cell_type": "code",
      "metadata": {
        "id": "Sm8wfjgOsbqp"
      },
      "source": [
        "#delete NAN Rows\n",
        "for x in data.columns:\n",
        "  _data = data.drop(data.loc[data[x].isna()].index)\n",
        "data = _data"
      ],
      "execution_count": null,
      "outputs": []
    },
    {
      "cell_type": "code",
      "metadata": {
        "id": "ZRwttx__rXc1"
      },
      "source": [
        "y = data[\"loan_status\"]\n",
        "\n",
        "data = data.select_dtypes(include=['int16', 'int32', 'int64', 'float16', 'float32', 'float64'])\n",
        "X = data\n",
        "\n",
        "# X = data.drop(['loan_status'], axis=1)\n",
        "\n",
        "X_train, X_test, y_train, y_test = train_test_split(X, y, test_size=0.2)"
      ],
      "execution_count": null,
      "outputs": []
    },
    {
      "cell_type": "code",
      "metadata": {
        "colab": {
          "base_uri": "https://localhost:8080/"
        },
        "id": "9meiTw4vsGcI",
        "outputId": "f32016a2-8694-4176-87a7-aef3ae7ab3eb"
      },
      "source": [
        "np.isnan(data).sum().sort_values(ascending=False)[:25]"
      ],
      "execution_count": null,
      "outputs": [
        {
          "output_type": "execute_result",
          "data": {
            "text/plain": [
              "total_il_high_credit_limit    0\n",
              "collections_12_mths_ex_med    0\n",
              "total_rec_late_fee            0\n",
              "recoveries                    0\n",
              "collection_recovery_fee       0\n",
              "last_pymnt_amnt               0\n",
              "last_fico_range_high          0\n",
              "last_fico_range_low           0\n",
              "policy_code                   0\n",
              "total_rec_prncp               0\n",
              "acc_now_delinq                0\n",
              "tot_coll_amt                  0\n",
              "tot_cur_bal                   0\n",
              "open_acc_6m                   0\n",
              "open_act_il                   0\n",
              "open_il_12m                   0\n",
              "total_rec_int                 0\n",
              "total_pymnt_inv               0\n",
              "total_bc_limit                0\n",
              "fico_range_high               0\n",
              "funded_amnt                   0\n",
              "funded_amnt_inv               0\n",
              "installment                   0\n",
              "annual_inc                    0\n",
              "delinq_2yrs                   0\n",
              "dtype: int64"
            ]
          },
          "metadata": {
            "tags": []
          },
          "execution_count": 53
        }
      ]
    },
    {
      "cell_type": "code",
      "metadata": {
        "colab": {
          "base_uri": "https://localhost:8080/"
        },
        "id": "ZxroM8TZjeK9",
        "outputId": "925c13b3-7b2d-4c91-8b18-65ccb4774b4c"
      },
      "source": [
        "from sklearn.model_selection import train_test_split\n",
        "from sklearn.linear_model import LogisticRegression\n",
        "\n",
        "# X_train, X_test, y_train, y_test = train_test_split(X, y, test_size=0.3, random_state=0)\n",
        "logreg = LogisticRegression()\n",
        "logreg.fit(X_train, y_train)"
      ],
      "execution_count": null,
      "outputs": [
        {
          "output_type": "stream",
          "text": [
            "/usr/local/lib/python3.7/dist-packages/sklearn/linear_model/_logistic.py:940: ConvergenceWarning: lbfgs failed to converge (status=1):\n",
            "STOP: TOTAL NO. of ITERATIONS REACHED LIMIT.\n",
            "\n",
            "Increase the number of iterations (max_iter) or scale the data as shown in:\n",
            "    https://scikit-learn.org/stable/modules/preprocessing.html\n",
            "Please also refer to the documentation for alternative solver options:\n",
            "    https://scikit-learn.org/stable/modules/linear_model.html#logistic-regression\n",
            "  extra_warning_msg=_LOGISTIC_SOLVER_CONVERGENCE_MSG)\n"
          ],
          "name": "stderr"
        },
        {
          "output_type": "execute_result",
          "data": {
            "text/plain": [
              "LogisticRegression(C=1.0, class_weight=None, dual=False, fit_intercept=True,\n",
              "                   intercept_scaling=1, l1_ratio=None, max_iter=100,\n",
              "                   multi_class='auto', n_jobs=None, penalty='l2',\n",
              "                   random_state=None, solver='lbfgs', tol=0.0001, verbose=0,\n",
              "                   warm_start=False)"
            ]
          },
          "metadata": {
            "tags": []
          },
          "execution_count": 54
        }
      ]
    },
    {
      "cell_type": "code",
      "metadata": {
        "id": "JQNs_Q_qsjc3"
      },
      "source": [
        ""
      ],
      "execution_count": null,
      "outputs": []
    }
  ]
}